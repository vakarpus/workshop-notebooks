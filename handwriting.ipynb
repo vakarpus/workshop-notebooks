{
  "metadata": {
    "kernelspec": {
      "display_name": "Python 3.6",
      "name": "python36",
      "language": "python"
    },
    "language_info": {
      "mimetype": "text/x-python",
      "nbconvert_exporter": "python",
      "name": "python",
      "pygments_lexer": "ipython3",
      "version": "3.6.6",
      "file_extension": ".py",
      "codemirror_mode": {
        "version": 3,
        "name": "ipython"
      }
    }
  },
  "nbformat_minor": 2,
  "nbformat": 4,
  "cells": [
    {
      "cell_type": "markdown",
      "source": "# Recognising handwritten text using Azure Cognitive Services (Computer Vision APIs)\n\nTo run the code below - select code cells and press *CTRL+Enter* to execute, then move to the next cell, and so on.",
      "metadata": {
        "slideshow": {
          "slide_type": "slide"
        }
      }
    },
    {
      "cell_type": "code",
      "source": "import http.client, urllib.request, urllib.parse, urllib.error, base64, requests, time, json, sys\n\nsubscription_key = '2f7e689380cf4b66870ad4d98d42156b' # Free tier key - will be changed soon. \n# To avoid server error messages - generate your own free subscribtion key and insert it here.\n\nuri_base = 'https://westcentralus.api.cognitive.microsoft.com'",
      "metadata": {
        "trusted": true
      },
      "execution_count": 1,
      "outputs": []
    },
    {
      "cell_type": "code",
      "source": "requestHeaders = {\n    # Request headers.\n    # Another valid content type is \"application/octet-stream\".\n    'Content-Type': 'application/json',\n    #'Content-Type': 'application/octet-stream',\n    'Ocp-Apim-Subscription-Key': subscription_key,\n}\n\n# The URL of a JPEG image containing handwritten text.\nbody = {'url' : 'https://upload.wikimedia.org/wikipedia/commons/thumb/d/dd/Cursive_Writing_on_Notebook_paper.jpg/800px-Cursive_Writing_on_Notebook_paper.jpg'}\n#body = open(sys.argv[1], 'rb').read()\n# For printed text, set \"handwriting\" to false.\nparams = {'handwriting' : 'true'}",
      "metadata": {
        "slideshow": {
          "slide_type": "slide"
        },
        "trusted": true
      },
      "execution_count": 2,
      "outputs": []
    },
    {
      "cell_type": "markdown",
      "source": "Image from the link above: [https://upload.wikimedia.org/wikipedia/commons/thumb/d/dd/Cursive_Writing_on_Notebook_paper.jpg/800px-Cursive_Writing_on_Notebook_paper.jpg]\n![handwritten text](https://upload.wikimedia.org/wikipedia/commons/thumb/d/dd/Cursive_Writing_on_Notebook_paper.jpg/800px-Cursive_Writing_on_Notebook_paper.jpg)",
      "metadata": {}
    },
    {
      "cell_type": "code",
      "source": "# This operation requrires two REST API calls. One to submit the image for processing,\n# the other to retrieve the text found in the image. \n#\n# This executes the first REST API call and gets the response.\nresponse = requests.request('POST', uri_base + '/vision/v1.0/RecognizeText', json=body, data=None, headers=requestHeaders, params=params)\n\n# Success is indicated by a status of 202.\nif response.status_code != 202:\n    # if the first REST API call was not successful, display JSON data and exit.\n    parsed = json.loads(response.text)\n    print (\"Error:\")\n    print (json.dumps(parsed, sort_keys=True, indent=2))\n    exit()\n\n# The 'Operation-Location' in the response contains the URI to retrieve the recognized text.\noperationLocation = response.headers['Operation-Location']",
      "metadata": {
        "slideshow": {
          "slide_type": "slide"
        },
        "trusted": true
      },
      "execution_count": 3,
      "outputs": []
    },
    {
      "cell_type": "code",
      "source": "# Execute the second REST API call and get the response.\nresponse = requests.request('GET', operationLocation, json=None, data=None, headers=requestHeaders, params=None)\n\n# 'data' contains the JSON data. The following formats the JSON data for display.\nparsed = json.loads(response.text)\nprint (\"Response:\")\nprint (json.dumps(parsed, sort_keys=True, indent=2))",
      "metadata": {
        "slideshow": {
          "slide_type": "slide"
        },
        "trusted": true
      },
      "execution_count": 5,
      "outputs": [
        {
          "text": "Response:\n{\n  \"recognitionResult\": {\n    \"lines\": [\n      {\n        \"boundingBox\": [\n          2,\n          52,\n          65,\n          46,\n          69,\n          89,\n          7,\n          95\n        ],\n        \"text\": \"dog\",\n        \"words\": [\n          {\n            \"boundingBox\": [\n              0,\n              58,\n              62,\n              41,\n              76,\n              84,\n              2,\n              101\n            ],\n            \"text\": \"dog\"\n          }\n        ]\n      },\n      {\n        \"boundingBox\": [\n          6,\n          2,\n          771,\n          13,\n          770,\n          75,\n          5,\n          64\n        ],\n        \"text\": \"The quick brown fox jumps over the lazy\",\n        \"words\": [\n          {\n            \"boundingBox\": [\n              0,\n              3,\n              91,\n              4,\n              76,\n              70,\n              0,\n              70\n            ],\n            \"text\": \"The\"\n          },\n          {\n            \"boundingBox\": [\n              73,\n              3,\n              187,\n              4,\n              173,\n              71,\n              58,\n              70\n            ],\n            \"text\": \"quick\"\n          },\n          {\n            \"boundingBox\": [\n              174,\n              4,\n              319,\n              5,\n              305,\n              72,\n              159,\n              71\n            ],\n            \"text\": \"brown\"\n          },\n          {\n            \"boundingBox\": [\n              306,\n              5,\n              385,\n              5,\n              371,\n              72,\n              291,\n              72\n            ],\n            \"text\": \"fox\"\n          },\n          {\n            \"boundingBox\": [\n              381,\n              5,\n              504,\n              6,\n              489,\n              73,\n              366,\n              72\n            ],\n            \"text\": \"jumps\"\n          },\n          {\n            \"boundingBox\": [\n              491,\n              6,\n              605,\n              7,\n              591,\n              74,\n              476,\n              73\n            ],\n            \"text\": \"over\"\n          },\n          {\n            \"boundingBox\": [\n              588,\n              7,\n              671,\n              7,\n              657,\n              74,\n              573,\n              74\n            ],\n            \"text\": \"the\"\n          },\n          {\n            \"boundingBox\": [\n              658,\n              7,\n              781,\n              8,\n              767,\n              75,\n              643,\n              74\n            ],\n            \"text\": \"lazy\"\n          }\n        ]\n      },\n      {\n        \"boundingBox\": [\n          2,\n          84,\n          783,\n          96,\n          782,\n          154,\n          1,\n          148\n        ],\n        \"text\": \"Pack my box with five dozen liquor jugs\",\n        \"words\": [\n          {\n            \"boundingBox\": [\n              0,\n              85,\n              92,\n              86,\n              71,\n              150,\n              0,\n              148\n            ],\n            \"text\": \"Pack\"\n          },\n          {\n            \"boundingBox\": [\n              75,\n              86,\n              162,\n              87,\n              141,\n              151,\n              53,\n              149\n            ],\n            \"text\": \"my\"\n          },\n          {\n            \"boundingBox\": [\n              154,\n              87,\n              242,\n              88,\n              220,\n              151,\n              132,\n              150\n            ],\n            \"text\": \"box\"\n          },\n          {\n            \"boundingBox\": [\n              224,\n              87,\n              343,\n              89,\n              321,\n              153,\n              203,\n              151\n            ],\n            \"text\": \"with\"\n          },\n          {\n            \"boundingBox\": [\n              334,\n              89,\n              431,\n              90,\n              409,\n              154,\n              313,\n              153\n            ],\n            \"text\": \"five\"\n          },\n          {\n            \"boundingBox\": [\n              418,\n              90,\n              536,\n              91,\n              515,\n              154,\n              396,\n              154\n            ],\n            \"text\": \"dozen\"\n          },\n          {\n            \"boundingBox\": [\n              545,\n              91,\n              699,\n              93,\n              678,\n              154,\n              524,\n              154\n            ],\n            \"text\": \"liquor\"\n          },\n          {\n            \"boundingBox\": [\n              695,\n              93,\n              800,\n              94,\n              779,\n              154,\n              673,\n              154\n            ],\n            \"text\": \"jugs\"\n          }\n        ]\n      }\n    ]\n  },\n  \"status\": \"Succeeded\"\n}\n",
          "name": "stdout",
          "output_type": "stream"
        }
      ]
    }
  ]
}