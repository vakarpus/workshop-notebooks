{
 "cells": [
  {
   "cell_type": "markdown",
   "metadata": {},
   "source": [
    "*The content and code on this repo is intended for Microsoft ML/AI workshop under the [MIT license](LICENSE). Please check back regularly for updated versions.*\n",
    "\n",
    "This repo provides technical resources to help students and faculty learn about Azure and teach others. The content covers cross-platform scenarios in AI and machine learning, data science, web development, mobile app dev, internet of things, and devops.\n",
    "\n",
    "Students can get free Azure credits to explore these resources here:\n",
    "\n",
    "* [Azure For Students ($100 in Azure - no credit card required)](https://azure.microsoft.com/en-us/free/students/?WT.mc_id=workshop-github-vakarpus)\n",
    "* [Azure For Students Starter (use free Azure products with no credit card)](https://azure.microsoft.com/en-us/free/students-starter-faq/?WT.mc_id=workshop-github-vakarpus)\n",
    "* [Azure Free Account](https://azure.microsoft.com/en-us/free/?WT.mc_id=workshop-github-vakarpus)\n",
    "\n",
    "Your feedback is appreciated - please fork this repo and contribute!"
   ]
  }
 ],
 "metadata": {
  "kernelspec": {
   "display_name": "Python 3",
   "language": "python",
   "name": "python3"
  },
  "language_info": {
   "codemirror_mode": {
    "name": "ipython",
    "version": 3
   },
   "file_extension": ".py",
   "mimetype": "text/x-python",
   "name": "python",
   "nbconvert_exporter": "python",
   "pygments_lexer": "ipython3",
   "version": "3.6.6"
  }
 },
 "nbformat": 4,
 "nbformat_minor": 1
}
